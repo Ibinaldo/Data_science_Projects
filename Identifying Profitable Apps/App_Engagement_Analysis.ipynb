{
 "cells": [
  {
   "cell_type": "markdown",
   "metadata": {},
   "source": [
    "## Understanding what apps attract more users\n",
    "\n",
    "### Synopsis\n",
    "The goal of this study is to analyze app data to help developers understand what type of apps are likely to attract more users. Apps predominantly generate revenue from in-app ads, so the more users see and engage with the ads, the more revenue is likely to be generated. In this study I am interested in free apps."
   ]
  },
  {
   "cell_type": "code",
   "execution_count": 1,
   "metadata": {},
   "outputs": [],
   "source": [
    "from csv import reader"
   ]
  },
  {
   "cell_type": "code",
   "execution_count": 2,
   "metadata": {},
   "outputs": [],
   "source": [
    "file  = open('AppleStore.csv',encoding='utf8')\n",
    "apple = reader(file)\n",
    "apple_data = list(apple)\n",
    "file.close()\n",
    "\n",
    "file  = open('googleplaystore.csv',encoding='utf8')\n",
    "google = reader(file)\n",
    "google_data = list(google)\n",
    "file.close()"
   ]
  },
  {
   "cell_type": "markdown",
   "metadata": {},
   "source": [
    "Let's explore the dataset"
   ]
  },
  {
   "cell_type": "code",
   "execution_count": 3,
   "metadata": {},
   "outputs": [],
   "source": [
    "def explore_data(dataset, start, end, rows_and_columns=False):\n",
    "    dataset_slice = dataset[start:end]    \n",
    "    for row in dataset_slice:\n",
    "        print(row)\n",
    "        print('\\n') \n",
    "\n",
    "    if rows_and_columns:\n",
    "        print('Number of rows:', len(dataset))\n",
    "        print('Number of columns:', len(dataset[0]))"
   ]
  },
  {
   "cell_type": "code",
   "execution_count": 4,
   "metadata": {},
   "outputs": [
    {
     "name": "stdout",
     "output_type": "stream",
     "text": [
      "['id', 'track_name', 'size_bytes', 'currency', 'price', 'rating_count_tot', 'rating_count_ver', 'user_rating', 'user_rating_ver', 'ver', 'cont_rating', 'prime_genre', 'sup_devices.num', 'ipadSc_urls.num', 'lang.num', 'vpp_lic']\n",
      "\n",
      "\n",
      "['284882215', 'Facebook', '389879808', 'USD', '0.0', '2974676', '212', '3.5', '3.5', '95.0', '4+', 'Social Networking', '37', '1', '29', '1']\n",
      "\n",
      "\n",
      "['389801252', 'Instagram', '113954816', 'USD', '0.0', '2161558', '1289', '4.5', '4.0', '10.23', '12+', 'Photo & Video', '37', '0', '29', '1']\n",
      "\n",
      "\n",
      "['529479190', 'Clash of Clans', '116476928', 'USD', '0.0', '2130805', '579', '4.5', '4.5', '9.24.12', '9+', 'Games', '38', '5', '18', '1']\n",
      "\n",
      "\n",
      "['420009108', 'Temple Run', '65921024', 'USD', '0.0', '1724546', '3842', '4.5', '4.0', '1.6.2', '9+', 'Games', '40', '5', '1', '1']\n",
      "\n",
      "\n",
      "['284035177', 'Pandora - Music & Radio', '130242560', 'USD', '0.0', '1126879', '3594', '4.0', '4.5', '8.4.1', '12+', 'Music', '37', '4', '1', '1']\n",
      "\n",
      "\n",
      "['429047995', 'Pinterest', '74778624', 'USD', '0.0', '1061624', '1814', '4.5', '4.0', '6.26', '12+', 'Social Networking', '37', '5', '27', '1']\n",
      "\n",
      "\n",
      "['282935706', 'Bible', '92774400', 'USD', '0.0', '985920', '5320', '4.5', '5.0', '7.5.1', '4+', 'Reference', '37', '5', '45', '1']\n",
      "\n",
      "\n",
      "['553834731', 'Candy Crush Saga', '222846976', 'USD', '0.0', '961794', '2453', '4.5', '4.5', '1.101.0', '4+', 'Games', '43', '5', '24', '1']\n",
      "\n",
      "\n",
      "['324684580', 'Spotify Music', '132510720', 'USD', '0.0', '878563', '8253', '4.5', '4.5', '8.4.3', '12+', 'Music', '37', '5', '18', '1']\n",
      "\n",
      "\n"
     ]
    }
   ],
   "source": [
    "# Print out first 10 rows of App store data\n",
    "explore_data(apple_data,0,10)"
   ]
  },
  {
   "cell_type": "code",
   "execution_count": 5,
   "metadata": {},
   "outputs": [
    {
     "name": "stdout",
     "output_type": "stream",
     "text": [
      "['App', 'Category', 'Rating', 'Reviews', 'Size', 'Installs', 'Type', 'Price', 'Content Rating', 'Genres', 'Last Updated', 'Current Ver', 'Android Ver']\n",
      "\n",
      "\n",
      "['Photo Editor & Candy Camera & Grid & ScrapBook', 'ART_AND_DESIGN', '4.1', '159', '19M', '10,000+', 'Free', '0', 'Everyone', 'Art & Design', 'January 7, 2018', '1.0.0', '4.0.3 and up']\n",
      "\n",
      "\n",
      "['Coloring book moana', 'ART_AND_DESIGN', '3.9', '967', '14M', '500,000+', 'Free', '0', 'Everyone', 'Art & Design;Pretend Play', 'January 15, 2018', '2.0.0', '4.0.3 and up']\n",
      "\n",
      "\n",
      "['U Launcher Lite – FREE Live Cool Themes, Hide Apps', 'ART_AND_DESIGN', '4.7', '87510', '8.7M', '5,000,000+', 'Free', '0', 'Everyone', 'Art & Design', 'August 1, 2018', '1.2.4', '4.0.3 and up']\n",
      "\n",
      "\n",
      "['Sketch - Draw & Paint', 'ART_AND_DESIGN', '4.5', '215644', '25M', '50,000,000+', 'Free', '0', 'Teen', 'Art & Design', 'June 8, 2018', 'Varies with device', '4.2 and up']\n",
      "\n",
      "\n",
      "['Pixel Draw - Number Art Coloring Book', 'ART_AND_DESIGN', '4.3', '967', '2.8M', '100,000+', 'Free', '0', 'Everyone', 'Art & Design;Creativity', 'June 20, 2018', '1.1', '4.4 and up']\n",
      "\n",
      "\n",
      "['Paper flowers instructions', 'ART_AND_DESIGN', '4.4', '167', '5.6M', '50,000+', 'Free', '0', 'Everyone', 'Art & Design', 'March 26, 2017', '1.0', '2.3 and up']\n",
      "\n",
      "\n",
      "['Smoke Effect Photo Maker - Smoke Editor', 'ART_AND_DESIGN', '3.8', '178', '19M', '50,000+', 'Free', '0', 'Everyone', 'Art & Design', 'April 26, 2018', '1.1', '4.0.3 and up']\n",
      "\n",
      "\n",
      "['Infinite Painter', 'ART_AND_DESIGN', '4.1', '36815', '29M', '1,000,000+', 'Free', '0', 'Everyone', 'Art & Design', 'June 14, 2018', '6.1.61.1', '4.2 and up']\n",
      "\n",
      "\n",
      "['Garden Coloring Book', 'ART_AND_DESIGN', '4.4', '13791', '33M', '1,000,000+', 'Free', '0', 'Everyone', 'Art & Design', 'September 20, 2017', '2.9.2', '3.0 and up']\n",
      "\n",
      "\n"
     ]
    }
   ],
   "source": [
    "# Print out first 10 rows of Google Play Store data\n",
    "explore_data(google_data,0,10)"
   ]
  },
  {
   "cell_type": "code",
   "execution_count": 6,
   "metadata": {
    "scrolled": true
   },
   "outputs": [
    {
     "data": {
      "text/plain": [
       "(7197, 16)"
      ]
     },
     "execution_count": 6,
     "metadata": {},
     "output_type": "execute_result"
    }
   ],
   "source": [
    "len(apple_data[1:]), len(apple_data[0])"
   ]
  },
  {
   "cell_type": "code",
   "execution_count": 7,
   "metadata": {},
   "outputs": [
    {
     "data": {
      "text/plain": [
       "(10841, 13)"
      ]
     },
     "execution_count": 7,
     "metadata": {},
     "output_type": "execute_result"
    }
   ],
   "source": [
    "len(google_data[1:]), len(google_data[0])"
   ]
  },
  {
   "cell_type": "markdown",
   "metadata": {},
   "source": [
    "Let's take a closer look at the headers from both datasets to figure out which categories will best suit our goals"
   ]
  },
  {
   "cell_type": "code",
   "execution_count": 8,
   "metadata": {},
   "outputs": [
    {
     "name": "stdout",
     "output_type": "stream",
     "text": [
      "['id', 'track_name', 'size_bytes', 'currency', 'price', 'rating_count_tot', 'rating_count_ver', 'user_rating', 'user_rating_ver', 'ver', 'cont_rating', 'prime_genre', 'sup_devices.num', 'ipadSc_urls.num', 'lang.num', 'vpp_lic']\n"
     ]
    }
   ],
   "source": [
    "print(apple_data[0])"
   ]
  },
  {
   "cell_type": "code",
   "execution_count": 9,
   "metadata": {},
   "outputs": [
    {
     "name": "stdout",
     "output_type": "stream",
     "text": [
      "['App', 'Category', 'Rating', 'Reviews', 'Size', 'Installs', 'Type', 'Price', 'Content Rating', 'Genres', 'Last Updated', 'Current Ver', 'Android Ver']\n"
     ]
    }
   ],
   "source": [
    "print(google_data[0])"
   ]
  },
  {
   "cell_type": "markdown",
   "metadata": {},
   "source": [
    "In order to answer our question of what types of apps are likely to attract customers, our best option is to segment the apps based on their **genres**, as that category best describes the type of the app."
   ]
  },
  {
   "cell_type": "markdown",
   "metadata": {},
   "source": [
    "## Data Cleaning\n",
    "\n",
    "In this section we inspect the data to find erroneous values. We also focus on free apps directed towards an english-speaking audience. An erroneous data entry is shown below"
   ]
  },
  {
   "cell_type": "code",
   "execution_count": 10,
   "metadata": {},
   "outputs": [
    {
     "name": "stdout",
     "output_type": "stream",
     "text": [
      "['App', 'Category', 'Rating', 'Reviews', 'Size', 'Installs', 'Type', 'Price', 'Content Rating', 'Genres', 'Last Updated', 'Current Ver', 'Android Ver']\n",
      "\n",
      "\n",
      "['Life Made WI-Fi Touchscreen Photo Frame', '1.9', '19', '3.0M', '1,000+', 'Free', '0', 'Everyone', '', 'February 11, 2018', '1.0.19', '4.0 and up']\n",
      "\n",
      "\n",
      "['osmino Wi-Fi: free WiFi', 'TOOLS', '4.2', '134203', '4.1M', '10,000,000+', 'Free', '0', 'Everyone', 'Tools', 'August 7, 2018', '6.06.14', '4.4 and up']\n",
      "\n",
      "\n"
     ]
    },
    {
     "data": {
      "text/plain": [
       "(None, None, None)"
      ]
     },
     "execution_count": 10,
     "metadata": {},
     "output_type": "execute_result"
    }
   ],
   "source": [
    "print(google_data[0]), print(\"\\n\"), explore_data(google_data,10473,10475)"
   ]
  },
  {
   "cell_type": "markdown",
   "metadata": {},
   "source": [
    "We see that there is an error in the google dataset. At index 10373, the cell lvalues are shifted to the left. So we have incorrect values for every column in this row. Let's delete it"
   ]
  },
  {
   "cell_type": "code",
   "execution_count": 11,
   "metadata": {},
   "outputs": [],
   "source": [
    "del google_data[10473]"
   ]
  },
  {
   "cell_type": "markdown",
   "metadata": {},
   "source": [
    "### Duplicate entries\n",
    "\n",
    "Next, we remove apps that have been recorded more than once. However, I will not just randomly remove duplicates. I will keep the apps that are most recent, and will achieve this by using the number of reviews as a filter. The most recent data will have the highest number of reviews.\n",
    "\n",
    "Let's confirm there are duplicates first"
   ]
  },
  {
   "cell_type": "code",
   "execution_count": 12,
   "metadata": {},
   "outputs": [
    {
     "name": "stdout",
     "output_type": "stream",
     "text": [
      "['Quick PDF Scanner + OCR FREE', 'Box', 'Google My Business', 'ZOOM Cloud Meetings', 'join.me - Simple Meetings', 'Box', 'Zenefits', 'Google Ads', 'Google My Business', 'Slack']\n"
     ]
    }
   ],
   "source": [
    "app_name = []\n",
    "duplicates = []\n",
    "\n",
    "for names in google_data[1:]:\n",
    "    name = names[0]\n",
    "    \n",
    "    if name in app_name:\n",
    "        duplicates.append(name)\n",
    "       \n",
    "    elif name not in app_name:\n",
    "        app_name.append(name)\n",
    "        \n",
    "print(duplicates[:10])"
   ]
  },
  {
   "cell_type": "code",
   "execution_count": 13,
   "metadata": {},
   "outputs": [
    {
     "data": {
      "text/plain": [
       "1181"
      ]
     },
     "execution_count": 13,
     "metadata": {},
     "output_type": "execute_result"
    }
   ],
   "source": [
    "len(duplicates)"
   ]
  },
  {
   "cell_type": "markdown",
   "metadata": {},
   "source": [
    "In order to remove duplicates, I will first search for them, and only keep the values with the **highest number of reviews** as this corresponds to most recent data"
   ]
  },
  {
   "cell_type": "code",
   "execution_count": 14,
   "metadata": {},
   "outputs": [
    {
     "name": "stdout",
     "output_type": "stream",
     "text": [
      "9659\n"
     ]
    }
   ],
   "source": [
    "# create a dictionary to store unique app names\n",
    "reviews_max = {}\n",
    "\n",
    "for apps in google_data[1:]:\n",
    "    name = apps[0]\n",
    "    n_reviews = float(apps[3])\n",
    "    \n",
    "    if name in reviews_max and reviews_max[name] < n_reviews:\n",
    "        reviews_max[name] = n_reviews\n",
    "    if name not in reviews_max:\n",
    "        reviews_max[name] = n_reviews        \n",
    "        \n",
    "print(len(reviews_max))"
   ]
  },
  {
   "cell_type": "markdown",
   "metadata": {},
   "source": [
    "Note: In the above step, we made a dictionary and looped through the data set. We added both app name and number of reviews, updating the number of reviews to only keep the largest number. This method helps accout for duplicates since we use the number of reviews to highlighted the most recent app updates. \n",
    "\n",
    "In the precedeing steps we again search the data, and for every app we append its information to a list if its not already present and if its number of reviews match that of our dictionary. "
   ]
  },
  {
   "cell_type": "code",
   "execution_count": 15,
   "metadata": {},
   "outputs": [
    {
     "data": {
      "text/plain": [
       "9659"
      ]
     },
     "execution_count": 15,
     "metadata": {},
     "output_type": "execute_result"
    }
   ],
   "source": [
    "# use dictionary above to remove duplicate rows\n",
    "android_clean = []\n",
    "already_added = []\n",
    "\n",
    "for app in google_data[1:]:\n",
    "    name = app[0]\n",
    "    n_reviews = float(app[3])\n",
    "    \n",
    "    if n_reviews == reviews_max[name] and name not in already_added:\n",
    "        android_clean.append(app)\n",
    "        already_added.append(name)\n",
    "        \n",
    "len(android_clean)"
   ]
  },
  {
   "cell_type": "markdown",
   "metadata": {},
   "source": [
    "### Removing non english apps\n",
    "\n",
    "Here we will filter out non english apps. We do this by checking the unicode code point value. The regular english characters all fall within 0-127 so values outside that range are most likely not english based. "
   ]
  },
  {
   "cell_type": "code",
   "execution_count": 16,
   "metadata": {},
   "outputs": [],
   "source": [
    "def char_check(string):\n",
    "    default = True\n",
    "    for l in string:\n",
    "        if ord(l) > 127:\n",
    "            default = False\n",
    "            break\n",
    "    return default\n",
    "  \n"
   ]
  },
  {
   "cell_type": "code",
   "execution_count": 17,
   "metadata": {},
   "outputs": [
    {
     "data": {
      "text/plain": [
       "(True, False)"
      ]
     },
     "execution_count": 17,
     "metadata": {},
     "output_type": "execute_result"
    }
   ],
   "source": [
    "char_check('Instagram'), char_check('爱奇艺PPS -《欢乐颂2》电视剧热播')"
   ]
  },
  {
   "cell_type": "code",
   "execution_count": 18,
   "metadata": {},
   "outputs": [
    {
     "data": {
      "text/plain": [
       "(False, False)"
      ]
     },
     "execution_count": 18,
     "metadata": {},
     "output_type": "execute_result"
    }
   ],
   "source": [
    "char_check('Docs To Go™ Free Office Suite'), char_check('Instachat 😜')"
   ]
  },
  {
   "cell_type": "code",
   "execution_count": 19,
   "metadata": {},
   "outputs": [],
   "source": [
    "# filter out the non english apps from both data sets\n",
    "google_filter = []\n",
    "apple_filter = []\n",
    "\n",
    "for app in android_clean[1:]:\n",
    "    name = app[0]\n",
    "    flag = char_check(name)\n",
    "    \n",
    "    if flag:\n",
    "        google_filter.append(app)\n",
    "        \n",
    "\n",
    "for app in apple_data[1:]:\n",
    "    name = app[0]\n",
    "    flag = char_check(name)\n",
    "    \n",
    "    if flag:\n",
    "        apple_filter.append(app)\n",
    "        "
   ]
  },
  {
   "cell_type": "code",
   "execution_count": 20,
   "metadata": {},
   "outputs": [
    {
     "data": {
      "text/plain": [
       "(9116, 7197)"
      ]
     },
     "execution_count": 20,
     "metadata": {},
     "output_type": "execute_result"
    }
   ],
   "source": [
    "len(google_filter), len(apple_filter)"
   ]
  },
  {
   "cell_type": "code",
   "execution_count": 21,
   "metadata": {},
   "outputs": [
    {
     "data": {
      "text/plain": [
       "(10841, 7198)"
      ]
     },
     "execution_count": 21,
     "metadata": {},
     "output_type": "execute_result"
    }
   ],
   "source": [
    "len(google_data), len(apple_data)"
   ]
  },
  {
   "cell_type": "markdown",
   "metadata": {},
   "source": [
    "### Isolating free apps"
   ]
  },
  {
   "cell_type": "code",
   "execution_count": 22,
   "metadata": {},
   "outputs": [],
   "source": [
    "google_free = []\n",
    "apple_free = []\n",
    "\n",
    "for app in google_filter[1:]:\n",
    "    app_type = app[6]\n",
    "    \n",
    "    if app_type == \"Free\":\n",
    "        google_free.append(app)\n",
    "\n",
    "for app in apple_filter[1:]:\n",
    "    app_type = app[4]\n",
    "    \n",
    "    if app_type == \"0.0\":\n",
    "        apple_free.append(app)"
   ]
  },
  {
   "cell_type": "code",
   "execution_count": 23,
   "metadata": {},
   "outputs": [
    {
     "data": {
      "text/plain": [
       "(8405, 4055)"
      ]
     },
     "execution_count": 23,
     "metadata": {},
     "output_type": "execute_result"
    }
   ],
   "source": [
    "len(google_free), len(apple_free)"
   ]
  },
  {
   "cell_type": "markdown",
   "metadata": {},
   "source": [
    "## Validation strategy for an app idea\n",
    "\n",
    "Building apps can be a time consuming process and we want to have an idea of how successful our apps will be to determine if we should proceed. We therefore build a minimal androide version of our app, add to google play and see how successful it is. If after 6 months its doing well, we include an ios version. \n",
    "\n",
    "In order for this strategy to work, we need to find app profiles that are successful on both markets. One way to do this might be to look at the most common genres for each market."
   ]
  },
  {
   "cell_type": "code",
   "execution_count": 33,
   "metadata": {},
   "outputs": [
    {
     "name": "stdout",
     "output_type": "stream",
     "text": [
      "['App', 'Category', 'Rating', 'Reviews', 'Size', 'Installs', 'Type', 'Price', 'Content Rating', 'Genres', 'Last Updated', 'Current Ver', 'Android Ver']\n",
      "\n",
      "\n",
      "['id', 'track_name', 'size_bytes', 'currency', 'price', 'rating_count_tot', 'rating_count_ver', 'user_rating', 'user_rating_ver', 'ver', 'cont_rating', 'prime_genre', 'sup_devices.num', 'ipadSc_urls.num', 'lang.num', 'vpp_lic']\n"
     ]
    },
    {
     "data": {
      "text/plain": [
       "(None, None, None)"
      ]
     },
     "execution_count": 33,
     "metadata": {},
     "output_type": "execute_result"
    }
   ],
   "source": [
    "# Let's print out the headers for both data sets\n",
    "print(google_data[0]), print('\\n'), print(apple_data[0])"
   ]
  },
  {
   "cell_type": "markdown",
   "metadata": {},
   "source": [
    "We could get an idea of the most common genres for each market by talling up the **Genres** and **Category** for the google apps, and **prime_genre** category for the ios appps"
   ]
  },
  {
   "cell_type": "code",
   "execution_count": 25,
   "metadata": {},
   "outputs": [],
   "source": [
    "def freq_table(dataset,index):\n",
    "    '''\n",
    "    This function accepts a list and an index value, and provides a relative frequency of a given data column in the data \n",
    "    '''\n",
    "    freq_tab = {}\n",
    "    \n",
    "    for app in dataset:\n",
    "        value = app[index]\n",
    "        \n",
    "        if value in freq_tab:\n",
    "            freq_tab[value] += 1\n",
    "        else:\n",
    "            freq_tab[value] = 1\n",
    "    \n",
    "    num_apps = len(dataset)\n",
    "    for key in freq_tab:\n",
    "        freq_tab[key] = (freq_tab[key]/num_apps) * 100\n",
    "        \n",
    "    return freq_tab"
   ]
  },
  {
   "cell_type": "code",
   "execution_count": 42,
   "metadata": {},
   "outputs": [],
   "source": [
    "def display_table(dataset, index):\n",
    "    '''\n",
    "    This function creates a frequency table and prints out the relative frequency \n",
    "    '''\n",
    "    \n",
    "    table = freq_table(dataset, index)\n",
    "    table_display = []\n",
    "    for key in table:\n",
    "        key_val_as_tuple = (table[key], key)\n",
    "        table_display.append(key_val_as_tuple)\n",
    "\n",
    "    table_sorted = sorted(table_display, reverse = True)\n",
    "    for entry in table_sorted:\n",
    "        #print(entry[1], ' : ', entry[0])\n",
    "        print(\"{} : {:.2f}\".format(entry[1].capitalize(), entry[0]) )"
   ]
  },
  {
   "cell_type": "code",
   "execution_count": 43,
   "metadata": {},
   "outputs": [
    {
     "name": "stdout",
     "output_type": "stream",
     "text": [
      "Tools : 8.57\n",
      "Entertainment : 6.09\n",
      "Education : 5.39\n",
      "Business : 4.71\n",
      "Productivity : 3.97\n",
      "Lifestyle : 3.88\n",
      "Finance : 3.74\n",
      "Medical : 3.64\n",
      "Sports : 3.33\n",
      "Personalization : 3.31\n",
      "Communication : 3.22\n",
      "Health & fitness : 3.13\n",
      "Action : 3.12\n",
      "Photography : 3.01\n",
      "News & magazines : 2.80\n",
      "Social : 2.67\n",
      "Travel & local : 2.31\n",
      "Shopping : 2.25\n",
      "Books & reference : 2.19\n",
      "Simulation : 2.08\n",
      "Dating : 1.83\n",
      "Arcade : 1.83\n",
      "Casual : 1.77\n",
      "Video players & editors : 1.74\n",
      "Maps & navigation : 1.36\n",
      "Food & drink : 1.20\n",
      "Puzzle : 1.13\n",
      "Racing : 1.02\n",
      "Role playing : 0.94\n",
      "Auto & vehicles : 0.94\n",
      "Libraries & demo : 0.90\n",
      "Strategy : 0.89\n",
      "House & home : 0.81\n",
      "Weather : 0.80\n",
      "Events : 0.71\n",
      "Adventure : 0.65\n",
      "Beauty : 0.63\n",
      "Art & design : 0.59\n",
      "Comics : 0.56\n",
      "Parenting : 0.50\n",
      "Trivia : 0.42\n",
      "Educational;education : 0.42\n",
      "Card : 0.40\n",
      "Educational : 0.38\n",
      "Casino : 0.38\n",
      "Board : 0.37\n",
      "Education;education : 0.35\n",
      "Word : 0.25\n",
      "Music : 0.20\n",
      "Casual;pretend play : 0.19\n",
      "Puzzle;brain games : 0.18\n",
      "Racing;action & adventure : 0.14\n",
      "Casual;brain games : 0.14\n",
      "Entertainment;music & video : 0.13\n",
      "Casual;action & adventure : 0.13\n",
      "Arcade;action & adventure : 0.11\n",
      "Simulation;action & adventure : 0.08\n",
      "Parenting;education : 0.08\n",
      "Educational;pretend play : 0.08\n",
      "Action;action & adventure : 0.08\n",
      "Entertainment;brain games : 0.07\n",
      "Art & design;creativity : 0.07\n",
      "Parenting;music & video : 0.06\n",
      "Education;pretend play : 0.06\n",
      "Board;brain games : 0.06\n",
      "Role playing;pretend play : 0.05\n",
      "Educational;brain games : 0.05\n",
      "Education;creativity : 0.05\n",
      "Casual;creativity : 0.05\n",
      "Role playing;action & adventure : 0.04\n",
      "Puzzle;action & adventure : 0.04\n",
      "Educational;creativity : 0.04\n",
      "Education;music & video : 0.04\n",
      "Education;action & adventure : 0.04\n",
      "Adventure;action & adventure : 0.04\n",
      "Video players & editors;music & video : 0.02\n",
      "Sports;action & adventure : 0.02\n",
      "Simulation;pretend play : 0.02\n",
      "Puzzle;creativity : 0.02\n",
      "Music;music & video : 0.02\n",
      "Entertainment;pretend play : 0.02\n",
      "Entertainment;creativity : 0.02\n",
      "Entertainment;action & adventure : 0.02\n",
      "Educational;action & adventure : 0.02\n",
      "Education;brain games : 0.02\n",
      "Casual;education : 0.02\n",
      "Board;action & adventure : 0.02\n",
      "Video players & editors;creativity : 0.01\n",
      "Trivia;education : 0.01\n",
      "Tools;education : 0.01\n",
      "Strategy;education : 0.01\n",
      "Strategy;creativity : 0.01\n",
      "Simulation;education : 0.01\n",
      "Role playing;brain games : 0.01\n",
      "Racing;pretend play : 0.01\n",
      "Puzzle;education : 0.01\n",
      "Parenting;brain games : 0.01\n",
      "Music & audio;music & video : 0.01\n",
      "Lifestyle;pretend play : 0.01\n",
      "Health & fitness;education : 0.01\n",
      "Health & fitness;action & adventure : 0.01\n",
      "Entertainment;education : 0.01\n",
      "Comics;creativity : 0.01\n",
      "Card;action & adventure : 0.01\n",
      "Books & reference;education : 0.01\n",
      "Art & design;pretend play : 0.01\n",
      "Art & design;action & adventure : 0.01\n",
      "Adventure;education : 0.01\n"
     ]
    }
   ],
   "source": [
    "# display the frequency table for Genres (Google)\n",
    "display_table(google_free,9)"
   ]
  },
  {
   "cell_type": "code",
   "execution_count": 44,
   "metadata": {},
   "outputs": [
    {
     "name": "stdout",
     "output_type": "stream",
     "text": [
      "Family : 18.80\n",
      "Game : 9.61\n",
      "Tools : 8.58\n",
      "Business : 4.71\n",
      "Productivity : 3.97\n",
      "Lifestyle : 3.89\n",
      "Finance : 3.74\n",
      "Medical : 3.64\n",
      "Personalization : 3.31\n",
      "Sports : 3.26\n",
      "Communication : 3.22\n",
      "Health_and_fitness : 3.13\n",
      "Photography : 3.01\n",
      "News_and_magazines : 2.80\n",
      "Social : 2.67\n",
      "Travel_and_local : 2.31\n",
      "Shopping : 2.25\n",
      "Books_and_reference : 2.19\n",
      "Dating : 1.83\n",
      "Video_players : 1.76\n",
      "Maps_and_navigation : 1.36\n",
      "Food_and_drink : 1.20\n",
      "Education : 1.17\n",
      "Entertainment : 0.94\n",
      "Auto_and_vehicles : 0.94\n",
      "Libraries_and_demo : 0.90\n",
      "House_and_home : 0.81\n",
      "Weather : 0.80\n",
      "Events : 0.71\n",
      "Parenting : 0.65\n",
      "Art_and_design : 0.64\n",
      "Beauty : 0.63\n",
      "Comics : 0.57\n"
     ]
    }
   ],
   "source": [
    "# display the frequency table for Category (google)\n",
    "display_table(google_free,1)"
   ]
  },
  {
   "cell_type": "code",
   "execution_count": 39,
   "metadata": {},
   "outputs": [
    {
     "name": "stdout",
     "output_type": "stream",
     "text": [
      "Games : 55.66\n",
      "Entertainment : 8.24\n",
      "Photo & Video : 4.12\n",
      "Social Networking : 3.50\n",
      "Education : 3.26\n",
      "Shopping : 2.98\n",
      "Utilities : 2.69\n",
      "Lifestyle : 2.32\n",
      "Finance : 2.07\n",
      "Sports : 1.95\n",
      "Health & Fitness : 1.87\n",
      "Music : 1.65\n",
      "Book : 1.63\n",
      "Productivity : 1.53\n",
      "News : 1.43\n",
      "Travel : 1.38\n",
      "Food & Drink : 1.06\n",
      "Weather : 0.76\n",
      "Reference : 0.49\n",
      "Navigation : 0.49\n",
      "Business : 0.49\n",
      "Catalogs : 0.22\n",
      "Medical : 0.20\n"
     ]
    }
   ],
   "source": [
    "# display the frequency table for prime_genre (apple)\n",
    "display_table(apple_free,11)"
   ]
  },
  {
   "cell_type": "markdown",
   "metadata": {},
   "source": [
    "Analayzing the genres for the ios apps, `Games` make up **56%** of the free app genres, with `Entertainment` being a distant second at about **8%**. What is interesting is the top 4 generes are entertainment or social media related. It seems apps are predominantly desiged for entertainment compared to practical purposes. Although the gaming apps are most dominant, this does not imply a larger number of users. Perhaps checking the user ratings count might give a sense of how much interaction occurs between users and the app. \n",
    "\n",
    "User preferences are not so clear cut with the google apps, as they show a mix of practical and entertainment genres. However the top apps here predominantly lean towards the practical apps. The most common genre was `Tools` but in terms of percentages it did not significantly differ from the other top genres. If we had to compare the google and apple trends, we see the apple trends predominantly leaned towards entertainment while the google trends favoured the productivity apps. We would need to see how the user count to make a more reasonable assessement. "
   ]
  },
  {
   "cell_type": "code",
   "execution_count": 62,
   "metadata": {},
   "outputs": [
    {
     "name": "stdout",
     "output_type": "stream",
     "text": [
      "On Average, 27,249.89 App store users provided ratings for the Photo & Video genre.\n",
      "On Average, 18,924.69 App store users provided ratings for the Games genre.\n",
      "On Average, 56,482.03 App store users provided ratings for the Music genre.\n",
      "On Average, 32,503.56 App store users provided ratings for the Social Networking genre.\n",
      "On Average, 67,447.90 App store users provided ratings for the Reference genre.\n",
      "On Average, 19,952.32 App store users provided ratings for the Health & Fitness genre.\n",
      "On Average, 47,220.94 App store users provided ratings for the Weather genre.\n",
      "On Average, 14,010.10 App store users provided ratings for the Utilities genre.\n",
      "On Average, 20,216.02 App store users provided ratings for the Travel genre.\n",
      "On Average, 18,746.68 App store users provided ratings for the Shopping genre.\n",
      "On Average, 15,892.72 App store users provided ratings for the News genre.\n",
      "On Average, 25,972.05 App store users provided ratings for the Navigation genre.\n",
      "On Average, 8,978.31 App store users provided ratings for the Lifestyle genre.\n",
      "On Average, 10,822.96 App store users provided ratings for the Entertainment genre.\n",
      "On Average, 20,179.09 App store users provided ratings for the Food & Drink genre.\n",
      "On Average, 20,128.97 App store users provided ratings for the Sports genre.\n",
      "On Average, 8,498.33 App store users provided ratings for the Book genre.\n",
      "On Average, 13,522.26 App store users provided ratings for the Finance genre.\n",
      "On Average, 6,266.33 App store users provided ratings for the Education genre.\n",
      "On Average, 19,053.89 App store users provided ratings for the Productivity genre.\n",
      "On Average, 6,367.80 App store users provided ratings for the Business genre.\n",
      "On Average, 1,779.56 App store users provided ratings for the Catalogs genre.\n",
      "On Average, 459.75 App store users provided ratings for the Medical genre.\n"
     ]
    }
   ],
   "source": [
    "# get a list of the genres and their relative frequency from apple store\n",
    "app_genres = freq_table(apple_free,11)\n",
    "#app_genres\n",
    "#app_genres = sorted(app_genres, reverse = True)\n",
    "\n",
    "for genre in app_genres:\n",
    "    total = 0 # store sum of user ratings\n",
    "    len_genre = 0 # number of apps specific to each genre\n",
    "    \n",
    "    for app in apple_free:\n",
    "        genre_app = app[11]\n",
    "        \n",
    "        if genre_app == genre:\n",
    "            total += float(app[5])\n",
    "            len_genre += 1\n",
    "            \n",
    "    #print(f'{genre} has an average no of user ratings of: {total/len_genre}')\n",
    "    print('On Average, {:,.2f} App store users provided ratings for the {} genre.'.format(total/len_genre,genre))        \n",
    "            "
   ]
  },
  {
   "cell_type": "markdown",
   "metadata": {},
   "source": [
    "The genres corresponding to the entertainment genres (e.g. social Networking, Photo & Video) on average had more user engagement relative to the more productive apps. There wasn't a major discrepancy overall for the different genres, but the medical genre did have the lowest user engagement across all the genres. A recommended area for app development would be music, since it had the highest user engagement relative to the other genres. \n",
    "\n",
    "Now, let's create a frequency table for the different Categories"
   ]
  },
  {
   "cell_type": "code",
   "execution_count": 63,
   "metadata": {},
   "outputs": [
    {
     "name": "stdout",
     "output_type": "stream",
     "text": [
      "On Average, 1,077,983.33 Google play store users provided ratings for the ART_AND_DESIGN category.\n",
      "On Average, 645,317.23 Google play store users provided ratings for the AUTO_AND_VEHICLES category.\n",
      "On Average, 513,151.89 Google play store users provided ratings for the BEAUTY category.\n",
      "On Average, 8,504,745.98 Google play store users provided ratings for the BOOKS_AND_REFERENCE category.\n",
      "On Average, 1,602,958.31 Google play store users provided ratings for the BUSINESS category.\n",
      "On Average, 880,440.62 Google play store users provided ratings for the COMICS category.\n",
      "On Average, 36,106,662.33 Google play store users provided ratings for the COMMUNICATION category.\n",
      "On Average, 764,959.46 Google play store users provided ratings for the DATING category.\n",
      "On Average, 1,844,897.96 Google play store users provided ratings for the EDUCATION category.\n",
      "On Average, 12,346,329.11 Google play store users provided ratings for the ENTERTAINMENT category.\n",
      "On Average, 232,885.83 Google play store users provided ratings for the EVENTS category.\n",
      "On Average, 1,348,224.94 Google play store users provided ratings for the FINANCE category.\n",
      "On Average, 1,974,937.14 Google play store users provided ratings for the FOOD_AND_DRINK category.\n",
      "On Average, 4,263,642.17 Google play store users provided ratings for the HEALTH_AND_FITNESS category.\n",
      "On Average, 1,391,211.19 Google play store users provided ratings for the HOUSE_AND_HOME category.\n",
      "On Average, 674,917.24 Google play store users provided ratings for the LIBRARIES_AND_DEMO category.\n",
      "On Average, 1,375,297.31 Google play store users provided ratings for the LIFESTYLE category.\n",
      "On Average, 15,434,835.82 Google play store users provided ratings for the GAME category.\n",
      "On Average, 3,636,007.16 Google play store users provided ratings for the FAMILY category.\n",
      "On Average, 119,216.81 Google play store users provided ratings for the MEDICAL category.\n",
      "On Average, 24,441,088.18 Google play store users provided ratings for the SOCIAL category.\n",
      "On Average, 7,307,823.20 Google play store users provided ratings for the SHOPPING category.\n",
      "On Average, 18,099,283.85 Google play store users provided ratings for the PHOTOGRAPHY category.\n",
      "On Average, 3,647,640.21 Google play store users provided ratings for the SPORTS category.\n",
      "On Average, 14,487,541.68 Google play store users provided ratings for the TRAVEL_AND_LOCAL category.\n",
      "On Average, 11,084,333.29 Google play store users provided ratings for the TOOLS category.\n",
      "On Average, 5,027,006.79 Google play store users provided ratings for the PERSONALIZATION category.\n",
      "On Average, 16,972,497.95 Google play store users provided ratings for the PRODUCTIVITY category.\n",
      "On Average, 544,745.64 Google play store users provided ratings for the PARENTING category.\n",
      "On Average, 5,219,216.72 Google play store users provided ratings for the WEATHER category.\n",
      "On Average, 25,234,606.22 Google play store users provided ratings for the VIDEO_PLAYERS category.\n",
      "On Average, 10,006,311.11 Google play store users provided ratings for the NEWS_AND_MAGAZINES category.\n",
      "On Average, 4,304,432.28 Google play store users provided ratings for the MAPS_AND_NAVIGATION category.\n"
     ]
    }
   ],
   "source": [
    "category_freq = freq_table(google_free,1)\n",
    "\n",
    "for cat in category_freq:\n",
    "    total = 0\n",
    "    len_category = 0\n",
    "    \n",
    "    for app in google_free:\n",
    "        category_app = app[1]\n",
    "        \n",
    "        if category_app == cat:\n",
    "            no_installs = app[5]\n",
    "            no_installs = no_installs.replace('+','')\n",
    "            no_installs = no_installs.replace(',','')\n",
    "            \n",
    "            total += float(no_installs)\n",
    "            len_category += 1\n",
    "    #print(f'{cat} has an average no of user ratings of: {total/len_category}')\n",
    "    print('On Average, {:,.2f} Google play store users provided ratings for the {} category.'.format(total/len_category,cat))        "
   ]
  },
  {
   "cell_type": "markdown",
   "metadata": {},
   "source": [
    "The categories with the most engagement were the `Communication`, `Entertainment`, `Social` and `Game` categories. We observed a similar pattern with the google play store; These particular cateogory/genre of apps not only had a large market, but they also made up a significant portion of the app world within those repositories."
   ]
  },
  {
   "cell_type": "markdown",
   "metadata": {},
   "source": [
    "## Conclusion\n",
    "\n",
    "Using a dataset containing information on apps from both the App Store and Google Play Store, I have been able to paint a reasonable picture of the distribution of the different apps within those online repositories. My analysis showed that the most interacted with apps predominantly lie within the Entertainment, music, social media and Gaming industry. Therefore, if our focus is to maxime ad-revenue, we are better served targeting those markets.\n",
    "\n",
    "Of course our choices are not only limited to the most popular markets. During the course of my analysis, we saw there was reasonable user engagement in other categories that may not be as competitive. This might provide the opportunity to get into a niche market depending on the product offered. My conclusion was to target the music industry, as well look into productivity apps as they showed some promise. Of course in order to be competitive, we also need some truly innovative features on our app. Nevertheless, we are better equiped to design a succesful app with this analysis"
   ]
  }
 ],
 "metadata": {
  "kernelspec": {
   "display_name": "Python 3",
   "language": "python",
   "name": "python3"
  },
  "language_info": {
   "codemirror_mode": {
    "name": "ipython",
    "version": 3
   },
   "file_extension": ".py",
   "mimetype": "text/x-python",
   "name": "python",
   "nbconvert_exporter": "python",
   "pygments_lexer": "ipython3",
   "version": "3.7.6"
  }
 },
 "nbformat": 4,
 "nbformat_minor": 2
}
